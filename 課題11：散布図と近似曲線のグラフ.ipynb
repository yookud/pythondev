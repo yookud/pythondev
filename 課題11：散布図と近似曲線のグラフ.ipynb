{
 "cells": [
  {
   "cell_type": "code",
   "execution_count": 3,
   "id": "9eb78df4",
   "metadata": {},
   "outputs": [],
   "source": [
    "import numpy as np\n",
    "\n",
    "x = np.array([62, 95, 83, 100, 72, 71, 55, 85, 67, 75])   # english\n",
    "y = np.array([62, 80, 85, 95, 58, 76, 52, 84, 67, 71])    # math"
   ]
  },
  {
   "cell_type": "markdown",
   "id": "593a114e",
   "metadata": {},
   "source": [
    "仕様\n",
    "上記の x と y のndarrayを利用してください\n",
    "このデータの散布図グラフを描いてください：\n",
    "横軸が x 、縦軸は y としてください\n",
    "散布図の点は青色にしてください\n",
    "最小二乗法を利用して、このデータの近似直線を散布図と一緒に描いてください：\n",
    "直線は赤色にしてください\n",
    "横軸と縦軸それぞれのラベルを表示してください：\n",
    "横軸のラベルは english としてください\n",
    "縦軸のラベルは math としてください\n",
    "凡例を表示してください：\n",
    "表示する位置は、左上としてください\n",
    "表示する文字列は、散布図のほうは score、近似直線のほうは lsm としてください"
   ]
  },
  {
   "cell_type": "code",
   "execution_count": null,
   "id": "3cb352b4",
   "metadata": {},
   "outputs": [],
   "source": [
    "import matplotlib.pyplot as plt\n",
    "\n",
    "#上記の x と y のndarrayを利用してください\n",
    "#このデータの散布図グラフを描いてください：\n",
    "#横軸が x 、縦軸は y としてください\n",
    "#散布図の点は青色にしてください\n",
    "plt.scatter(x, y, color=\"blue\", label=\"score\")\n",
    "\n",
    "#最小二乗法を利用して、このデータの近似直線を散布図と一緒に描いてください：\n",
    "#直線は赤色にしてください\n",
    "p = np.polyfit(x, y, 1)\n",
    "f = np.poly1d(p)\n",
    "plt.plot(x, f(x), color=\"red\", label=\"lsm\")\n",
    "\n",
    "#横軸と縦軸それぞれのラベルを表示してください：\n",
    "#横軸のラベルは english としてください\n",
    "#縦軸のラベルは math としてください\n",
    "plt.xlabel(\"english\")\n",
    "plt.ylabel(\"math\")\n",
    "\n",
    "#凡例を表示してください：\n",
    "#表示する位置は、左上としてください\n",
    "#表示する文字列は、散布図のほうは score、近似直線のほうは lsm としてください\n",
    "plt.legend(loc=\"upper left\")\n",
    "\n",
    "plt.show()"
   ]
  }
 ],
 "metadata": {
  "kernelspec": {
   "display_name": ".venv",
   "language": "python",
   "name": "python3"
  },
  "language_info": {
   "codemirror_mode": {
    "name": "ipython",
    "version": 3
   },
   "file_extension": ".py",
   "mimetype": "text/x-python",
   "name": "python",
   "nbconvert_exporter": "python",
   "pygments_lexer": "ipython3",
   "version": "3.12.10"
  }
 },
 "nbformat": 4,
 "nbformat_minor": 5
}
