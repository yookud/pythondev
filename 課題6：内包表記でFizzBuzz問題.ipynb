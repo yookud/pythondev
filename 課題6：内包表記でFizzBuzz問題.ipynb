{
 "cells": [
  {
   "cell_type": "markdown",
   "id": "85d8096e",
   "metadata": {},
   "source": [
    "仕様\n",
    "空の状態でリストを作成します\n",
    "1から100までの連続する整数について繰り返し処理を行ないます：\n",
    "以下の条件にしたがい、適切な文字列をリストに追加します：\n",
    "3で割り切れる数のときは \"Fizz\"\n",
    "5で割り切れる数のときは \"Buzz\"\n",
    "3で割り切れて、なおかつ5で割り切れる数のときは \"FizzBuzz\"\n",
    "それ以外の数値の場合は、その数値を文字列に変換したデータ\n",
    "最後に print() でリストの中身を全件表示してください"
   ]
  },
  {
   "cell_type": "code",
   "execution_count": null,
   "id": "c5abf2b4",
   "metadata": {},
   "outputs": [],
   "source": [
    "list = []\n",
    "list = ['FizzBuzz' if (i%3==0 and i%5==0) else 'Fizz' if i%3==0 else 'Buzz' if i%5==0 else str(i) for i in range(1,101)]\n",
    "print(list)"
   ]
  }
 ],
 "metadata": {
  "kernelspec": {
   "display_name": "Python 3",
   "language": "python",
   "name": "python3"
  },
  "language_info": {
   "codemirror_mode": {
    "name": "ipython",
    "version": 3
   },
   "file_extension": ".py",
   "mimetype": "text/x-python",
   "name": "python",
   "nbconvert_exporter": "python",
   "pygments_lexer": "ipython3",
   "version": "3.12.10"
  }
 },
 "nbformat": 4,
 "nbformat_minor": 5
}
