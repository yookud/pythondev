{
 "cells": [
  {
   "cell_type": "markdown",
   "id": "496d0b43",
   "metadata": {},
   "source": [
    "仕様\n",
    "「税抜価格を入力してください：」と表示し、キーボードから税抜価格の入力を受け付けます\n",
    "税抜価格が入力されたら、税込価格を計算します。小数点以下を四捨五入します\n",
    "計算された税込価格によって処理を分けます：\n",
    "税込価格が2000円以上の場合：\n",
    "「送料は無料です」と表示します\n",
    "税込価格が2000円未満の場合：\n",
    "「送料として350円かかります」と表示し、送料350円を税込価格にプラスします（送料350円は税込価格として考えてください）\n",
    "「送料込みの価格は○○○円です。」というように、画面に送料込みの価格を画面に表示します"
   ]
  },
  {
   "cell_type": "code",
   "execution_count": null,
   "id": "eddd0f94",
   "metadata": {},
   "outputs": [],
   "source": [
    "price = input('税抜価格を入力してください：')\n",
    "\n",
    "# 税込価格を計算\n",
    "price = int(price) * 1.1\n",
    "\n",
    "# 小数点以下を四捨五入\n",
    "from decimal import Decimal, ROUND_HALF_UP\n",
    "price = Decimal(str(price)).quantize(Decimal('1'), ROUND_HALF_UP)\n",
    "\n",
    "if price >= 2000:\n",
    "  print('送料は無料です')\n",
    "else:\n",
    "  print('送料として350円かかります')\n",
    "\n",
    "  # 送料350円を税込価格にプラスします\n",
    "  price += 350\n",
    "\n",
    "# 送料込みの価格を画面に表示\n",
    "print(f'送料込みの価格は{price}円です。')"
   ]
  }
 ],
 "metadata": {
  "kernelspec": {
   "display_name": "Python 3",
   "language": "python",
   "name": "python3"
  },
  "language_info": {
   "codemirror_mode": {
    "name": "ipython",
    "version": 3
   },
   "file_extension": ".py",
   "mimetype": "text/x-python",
   "name": "python",
   "nbconvert_exporter": "python",
   "pygments_lexer": "ipython3",
   "version": "3.12.10"
  }
 },
 "nbformat": 4,
 "nbformat_minor": 5
}
