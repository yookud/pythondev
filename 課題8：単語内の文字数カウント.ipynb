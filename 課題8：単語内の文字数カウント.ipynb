{
 "cells": [
  {
   "cell_type": "markdown",
   "id": "837484b9",
   "metadata": {},
   "source": [
    "仕様\n",
    "最初に英単語を格納するための空のリストを作成してください\n",
    "次に、以下のように、キーがアルファベット小文字の各文字で、値が0の辞書を作成してください：\n",
    "'a':0, 'b':0, 'c':0, 'd':0, 'e':0, 'f':0, 'g':0, 'h':0, 'i':0, 'j':0, 'k':0, 'l':0, 'm':0, 'n':0, 'o':0, 'p':0, 'q':0, 'r':0, 's':0, 't':0, 'u':0, 'v':0, 'w':0, 'x':0, 'y':0, 'z':0\n",
    "そのあと、キーボードから英単語の入力を受けつけます：\n",
    "未入力でリターン（エンター）キーを押されるまで、英単語の入力の受け付けを繰り返してください\n",
    "入力された英単語を構成する文字を1文字ずつ確認して、登場した数を加算してください\n",
    "入力された英単語は都度リストに格納してください\n",
    "最後に以下の内容を一覧表示してください：\n",
    "入力された英単語のリストを一覧表示してください\n",
    "その際、ABC順に並べ替えてから表示するようにしてください\n",
    "辞書を使って加算した値のうち、1文字以上あったすべての文字について「○が△個ありました」を表示してください"
   ]
  },
  {
   "cell_type": "code",
   "execution_count": null,
   "id": "fe77683b",
   "metadata": {},
   "outputs": [],
   "source": [
    "# 英単語を格納するための空のリスト\n",
    "word_list = []\n",
    "\n",
    "# キーがアルファベット小文字の各文字で、値が0の辞書\n",
    "occurrence_dict = dict.fromkeys(['a','b','c','d','e','f','g','h','i','j','k','l','m','n','o','p','q','r','s','t','u','v','w','x','y','z'], 0)\n",
    "\n",
    "while True:\n",
    "  # キーボードから英単語の入力を受けつけ\n",
    "  word = input('英単語を入力してください')\n",
    "  if word == '':\n",
    "    break\n",
    "\n",
    "  # 入力された英単語を構成する文字を1文字ずつ確認して、登場した数を加算\n",
    "  for charactor in word:\n",
    "    occurrence_dict[charactor] += 1\n",
    "\n",
    "  # 入力された英単語は都度リストに格納\n",
    "  word_list.append(word)\n",
    "\n",
    "# 入力された英単語のリストを一覧表示\n",
    "word_list.sort()\n",
    "print(f'入力した英単語：{word_list}')\n",
    "\n",
    "# 辞書を使って加算した値のうち、1文字以上あったすべての文字について「○が△個ありました」を表示\n",
    "for charactor in occurrence_dict:\n",
    "  if occurrence_dict[charactor] > 0:\n",
    "    print(f'{charactor}が{occurrence_dict[charactor]}個ありました')"
   ]
  }
 ],
 "metadata": {
  "kernelspec": {
   "display_name": "Python 3",
   "language": "python",
   "name": "python3"
  },
  "language_info": {
   "codemirror_mode": {
    "name": "ipython",
    "version": 3
   },
   "file_extension": ".py",
   "mimetype": "text/x-python",
   "name": "python",
   "nbconvert_exporter": "python",
   "pygments_lexer": "ipython3",
   "version": "3.12.10"
  }
 },
 "nbformat": 4,
 "nbformat_minor": 5
}
