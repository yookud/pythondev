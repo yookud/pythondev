{
 "cells": [
  {
   "cell_type": "markdown",
   "id": "20f6b231",
   "metadata": {},
   "source": [
    "仕様\n",
    "prognum.py ファイルに「フィボナッチ数列を計算する関数」を定義します。関数名および引数の名前は自由とします。処理内容は以下のとおりです：\n",
    "1番目の数値は1\n",
    "2番目の数値は1\n",
    "3番目以降の数値は、直前の2つの数値の和（以下は例：）\n",
    "3番目： 1 + 1 = 2\n",
    "4番目： 1 + 2 = 3\n",
    "5番目： 2 + 3 = 5\n",
    "6番目： 3 + 5 = 8\n",
    "…（以下略）…\n",
    "3番目以降の数値に関する部分で、その関数自身を指定して return することで、再帰的な関数になります。この関数を再帰的な形にしてください。無限ループに注意しましょう！\n",
    "課題9：再帰的な関数でのフィボナッチ数列.ipynb で prognum.py をインポートしてください\n",
    "「何番目の数値を求めたいか」をキーボードから入力できるようにしてください。（数値が入力される前提でかまいませんので、例外処理は不要です）\n",
    "フィボナッチ数列を計算する関数を実行する命令を記述してください。キーボードから入力した数値を引数に指定しましょう\n",
    "計算結果の数値を画面に出力してください"
   ]
  },
  {
   "cell_type": "code",
   "execution_count": null,
   "id": "25cdc630",
   "metadata": {},
   "outputs": [],
   "source": [
    "import prognum\n",
    "\n",
    "number = int(input('何番目の数値を求めますか？：'))\n",
    "result = prognum.fibonacci(number)\n",
    "print(f'{result}')"
   ]
  }
 ],
 "metadata": {
  "kernelspec": {
   "display_name": "Python 3",
   "language": "python",
   "name": "python3"
  },
  "language_info": {
   "codemirror_mode": {
    "name": "ipython",
    "version": 3
   },
   "file_extension": ".py",
   "mimetype": "text/x-python",
   "name": "python",
   "nbconvert_exporter": "python",
   "pygments_lexer": "ipython3",
   "version": "3.12.10"
  }
 },
 "nbformat": 4,
 "nbformat_minor": 5
}
