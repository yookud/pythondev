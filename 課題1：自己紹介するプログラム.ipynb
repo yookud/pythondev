{
 "cells": [
  {
   "cell_type": "markdown",
   "id": "b6ab483f",
   "metadata": {},
   "source": [
    "仕様\n",
    "以下の3つの命令を連続して行なうプログラムを作成し、実行してください。\n",
    "\n",
    "命令1\n",
    "画面に「名前を入力してください：」と表示したうえで、キーボードから名前を受けつけ、変数 name に格納します。\n",
    "\n",
    "命令2\n",
    "画面に「現在の年齢を入力してください：」と表示したうえで、キーボードから現在の年齢を受け付けて、変数 age に格納します。\n",
    "\n",
    "命令3\n",
    "画面に「私の名前は ○○ です。来年で △△ 歳になります。」と表示します。来年の年齢を表示してください！\n",
    "\n",
    "実行結果の例:\n",
    "名前を入力してください: taro kirameki\n",
    "現在の年齢を入力してください: 25\n",
    "私の名前は taro kirameki です。来年で 26 歳になります。"
   ]
  },
  {
   "cell_type": "code",
   "execution_count": null,
   "id": "51f45f7e",
   "metadata": {},
   "outputs": [],
   "source": [
    "name = input('名前を入力してください：')\n",
    "\n",
    "age = input('現在の年齢を入力してください：')\n",
    "\n",
    "print(f'私の名前は {name} です。来年で {int(age) + 1} 歳になります。')"
   ]
  }
 ],
 "metadata": {
  "kernelspec": {
   "display_name": "Python 3",
   "language": "python",
   "name": "python3"
  },
  "language_info": {
   "codemirror_mode": {
    "name": "ipython",
    "version": 3
   },
   "file_extension": ".py",
   "mimetype": "text/x-python",
   "name": "python",
   "nbconvert_exporter": "python",
   "pygments_lexer": "ipython3",
   "version": "3.12.10"
  }
 },
 "nbformat": 4,
 "nbformat_minor": 5
}
