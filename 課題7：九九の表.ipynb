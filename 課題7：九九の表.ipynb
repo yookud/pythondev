{
 "cells": [
  {
   "cell_type": "markdown",
   "id": "569c716e",
   "metadata": {},
   "source": [
    "この課題は「2次元リストを作成して、そのリストから値を取り出して表示する」という2次元リストの理解を確認する内容となります。\n",
    "\n",
    "以下の仕様に沿って、2つのコードセルの追記・修正をしてください。\n",
    "\n",
    "#@title 九九のリストを作成する と書かれた行の下からコードを追加してください：\n",
    "九九の数値が格納された2次元リストを作成してください。その際、リストの内包表記か二重ループを使って作成してください。直書きによる 9x9 の2次元リストの作成は不合格とします。\n",
    "#@title 九九の表を表示する と書かれた行の下にある二重の for 文を修正してください：\n",
    "上記で作成した2次元リストから数値を参照して、九九を表示してください\n",
    "その際、前述の実行結果の表示と同じレイアウトにしてください"
   ]
  },
  {
   "cell_type": "code",
   "execution_count": 1,
   "id": "968e08cc",
   "metadata": {},
   "outputs": [],
   "source": [
    "#@title 九九のリストを作成する\n",
    "table=[]\n",
    "for v in range(1, 10):\n",
    "    row=[]\n",
    "    for h in range(1, 10):\n",
    "        row.append(v*h)\n",
    "\n",
    "    table.append(row)"
   ]
  },
  {
   "cell_type": "code",
   "execution_count": null,
   "id": "f8be6b32",
   "metadata": {},
   "outputs": [],
   "source": [
    "#@title 九九の表を表示する\n",
    "for v in table:\n",
    "    for h in v:\n",
    "        print(f\"{h:3d}\", end=\"\")\n",
    "\n",
    "    print(\"\")"
   ]
  }
 ],
 "metadata": {
  "kernelspec": {
   "display_name": "Python 3",
   "language": "python",
   "name": "python3"
  },
  "language_info": {
   "codemirror_mode": {
    "name": "ipython",
    "version": 3
   },
   "file_extension": ".py",
   "mimetype": "text/x-python",
   "name": "python",
   "nbconvert_exporter": "python",
   "pygments_lexer": "ipython3",
   "version": "3.12.10"
  }
 },
 "nbformat": 4,
 "nbformat_minor": 5
}
