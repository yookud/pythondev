{
 "cells": [
  {
   "cell_type": "markdown",
   "id": "8b414450",
   "metadata": {},
   "source": [
    "仕様\n",
    "無限ループを作成します\n",
    "そのなかで「点数を入力してください：」と表示して、テストの点数（整数値）を入力します。なお、入力した点数はあとで使用しますので、変数に格納してください。さらに、入力した点数の件数 人数 をカウンタ変数を用意して数えてください\n",
    "平均点は「点数の合計値 / 人数」で求めます。点数の合計値 は、繰り返しのたびに入力した点数を合計値用の変数に加算して求めてください\n",
    "-1 と入力されたら、そこで繰り返し処理を終了します\n",
    "最後に「○○人のテストの平均点は△△点です」と表示してください。平均点は小数第2位を四捨五入し、出力の際に小数第1位までを表示するようにします"
   ]
  },
  {
   "cell_type": "code",
   "execution_count": null,
   "id": "0a7f3203",
   "metadata": {},
   "outputs": [],
   "source": [
    "count = 0\n",
    "total_score = 0\n",
    "\n",
    "while True:\n",
    "    score = input('点数を入力してください：')\n",
    "\n",
    "    if score == '-1':\n",
    "        break\n",
    "\n",
    "    count += 1\n",
    "    total_score += int(score)\n",
    "\n",
    "\n",
    "average = total_score / count\n",
    "\n",
    "# 小数点以下を四捨五入\n",
    "from decimal import Decimal, ROUND_HALF_UP\n",
    "price = Decimal(str(average)).quantize(Decimal('1.0'), ROUND_HALF_UP)\n",
    "\n",
    "print(f'{count}人のテストの平均点は{average}点です')"
   ]
  }
 ],
 "metadata": {
  "kernelspec": {
   "display_name": "Python 3",
   "language": "python",
   "name": "python3"
  },
  "language_info": {
   "codemirror_mode": {
    "name": "ipython",
    "version": 3
   },
   "file_extension": ".py",
   "mimetype": "text/x-python",
   "name": "python",
   "nbconvert_exporter": "python",
   "pygments_lexer": "ipython3",
   "version": "3.12.10"
  }
 },
 "nbformat": 4,
 "nbformat_minor": 5
}
