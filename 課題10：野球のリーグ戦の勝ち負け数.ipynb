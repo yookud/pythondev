{
 "cells": [
  {
   "cell_type": "markdown",
   "id": "99bfd60e",
   "metadata": {},
   "source": [
    "仕様\n",
    "最初のセルに Baseball_Team という名前のクラスを作ってください：\n",
    "Baseball_Teamに、以下のメンバ変数を持たせてください：\n",
    "name（チーム名が入ります：Archers／Meteors／Cheetahs／Sharks／Pythons／Owls）\n",
    "win（勝ち数）\n",
    "lose（負け数）\n",
    "draw（引き分け数）\n",
    "Baseball_Teamに、 勝率を算出する calc_win_rate() というメソッドを作ってください：\n",
    "勝率は、勝ち数/(勝ち数+負け数) にて算出します\n",
    "今回は勝率をメンバ変数で持つ形ではなく、メソッドによって算出する形とします。勝率の値が欲しいときは、このcalc_win_rate()メソッドを実行します\n",
    "なお、今回は勝率の算出において、引き分け数は考慮しない形とします\n",
    "Baseball_Teamに、勝敗情報を表示する show_team_result() というメソッドを作ってください：\n",
    "勝敗情報の表示は、下記「出力結果の例」の表の1行分を表示するメソッドにしてください。\n",
    "例：Archers 77 64 2 0.546\n",
    "次のセルで Baseball_Team のインスタンスを6個チーム分、生成してください：\n",
    "これらのインスタンスには、それぞれのチームの名前、勝ち数、負け数、引き分け数を格納します。\n",
    "各インスタンスの show_team_result() メソッドを呼び出して、勝敗情報を表示してください：\n",
    "「出力結果の例」のように、表の見出しも表示してください。"
   ]
  },
  {
   "cell_type": "code",
   "execution_count": 2,
   "id": "ab095272",
   "metadata": {},
   "outputs": [],
   "source": [
    "class Baseball_Team:\n",
    "    name = ''\n",
    "    win = 0\n",
    "    lose = 0\n",
    "    draw = 0\n",
    "\n",
    "    def __init__(self, name, win, lose, draw):\n",
    "        self.name = name\n",
    "        self.win = win\n",
    "        self.lose = lose\n",
    "        self.draw = draw\n",
    "        \n",
    "    def calc_win_rate(self):\n",
    "        return self.win / (self.win + self.lose)\n",
    "        \n",
    "    def show_team_result(self):\n",
    "        print(f'{self.name:<8} {self.win:>4} {self.lose:>4} {self.draw:>4} {self.calc_win_rate():.3f}')"
   ]
  },
  {
   "cell_type": "code",
   "execution_count": null,
   "id": "d4d093db",
   "metadata": {},
   "outputs": [],
   "source": [
    "archers = Baseball_Team('Archers', 77, 64, 2)\n",
    "meteors = Baseball_Team('Meteors', 71, 69, 3)\n",
    "cheetahs = Baseball_Team('Cheetahs', 69, 68, 6)\n",
    "sharks = Baseball_Team('Sharks', 70, 70, 3)\n",
    "pythons = Baseball_Team('Pythons', 68, 73, 2)\n",
    "owls = Baseball_Team('Owls', 59, 82, 2)\n",
    "\n",
    "print(f'team      win lose draw rate')\n",
    "for team in [archers, meteors, cheetahs, sharks, pythons, owls]:\n",
    "    team.show_team_result()"
   ]
  }
 ],
 "metadata": {
  "kernelspec": {
   "display_name": "Python 3",
   "language": "python",
   "name": "python3"
  },
  "language_info": {
   "codemirror_mode": {
    "name": "ipython",
    "version": 3
   },
   "file_extension": ".py",
   "mimetype": "text/x-python",
   "name": "python",
   "nbconvert_exporter": "python",
   "pygments_lexer": "ipython3",
   "version": "3.12.10"
  }
 },
 "nbformat": 4,
 "nbformat_minor": 5
}
