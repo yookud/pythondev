{
 "cells": [
  {
   "cell_type": "markdown",
   "id": "982327e6",
   "metadata": {},
   "source": [
    "仕様\n",
    "range と繰り返し処理を使って、1から100までの連続する整数値を画面に表示します\n",
    "ただし、素数でないものは表示しないでください。以下のルールについて調べることで、素数かどうかを判定できます：\n",
    "1は素数ではない\n",
    "2を除いた2の倍数は素数ではない\n",
    "3を除いた3の倍数は素数ではない\n",
    "5を除いた5の倍数は素数ではない\n",
    "7を除いた7の倍数は素数ではない\n",
    "上記の素数かどうかの判定手順に沿って、エラトステネスのふるいの処理を実装しましょう"
   ]
  },
  {
   "cell_type": "code",
   "execution_count": null,
   "id": "f09f94ea",
   "metadata": {},
   "outputs": [],
   "source": [
    "for i in range(1, 101):\n",
    "  # 1は素数ではない\n",
    "  if i == 1:\n",
    "    continue\n",
    "  # 2を除いた2の倍数は素数ではない\n",
    "  if i != 2 and i % 2 == 0:\n",
    "    continue\n",
    "  # 3を除いた3の倍数は素数ではない\n",
    "  if i != 3 and i % 3 == 0:\n",
    "    continue\n",
    "  # 5を除いた5の倍数は素数ではない\n",
    "  if i != 5 and i % 5 == 0:\n",
    "    continue\n",
    "  # 7を除いた6の倍数は素数ではない\n",
    "  if i != 7 and i % 7 == 0:\n",
    "    continue\n",
    "\n",
    "  print(i)"
   ]
  }
 ],
 "metadata": {
  "kernelspec": {
   "display_name": "Python 3",
   "language": "python",
   "name": "python3"
  },
  "language_info": {
   "codemirror_mode": {
    "name": "ipython",
    "version": 3
   },
   "file_extension": ".py",
   "mimetype": "text/x-python",
   "name": "python",
   "nbconvert_exporter": "python",
   "pygments_lexer": "ipython3",
   "version": "3.12.10"
  }
 },
 "nbformat": 4,
 "nbformat_minor": 5
}
