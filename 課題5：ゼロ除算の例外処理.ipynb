{
 "cells": [
  {
   "cell_type": "markdown",
   "id": "787d1ad7",
   "metadata": {},
   "source": [
    "仕様\n",
    "ゼロで割り算した場合に出る例外に対する例外処理を実装してください\n",
    "キーボードから数値ではない文字列が入力された場合に出る例外に対しても、例外処理を実装してください\n",
    "入力内容に問題がなかった場合に、正しく割り算される処理は壊さないようにしてください。（プログラム修正によって、できていたことができなくなることを デグレード と言います。デグレードのないようにしてください）"
   ]
  },
  {
   "cell_type": "code",
   "execution_count": null,
   "id": "b28f2256",
   "metadata": {},
   "outputs": [],
   "source": [
    "try:\n",
    "  a = int(input(\"割られる数を入力してください：\"))\n",
    "  b = int(input(\"割る数を入力してください：\"))\n",
    "\n",
    "  c = a / b\n",
    "\n",
    "  print(f\"{a} ÷ {b} = {c}\")\n",
    "except ValueError:\n",
    "  print(\"エラー: 数値を入力してください\")\n",
    "except ZeroDivisionError:\n",
    "  print(\"エラー：0で割り算しないでください\")\n",
    "finally:\n",
    "  print(\"処理を終了します\")"
   ]
  }
 ],
 "metadata": {
  "kernelspec": {
   "display_name": "Python 3",
   "language": "python",
   "name": "python3"
  },
  "language_info": {
   "codemirror_mode": {
    "name": "ipython",
    "version": 3
   },
   "file_extension": ".py",
   "mimetype": "text/x-python",
   "name": "python",
   "nbconvert_exporter": "python",
   "pygments_lexer": "ipython3",
   "version": "3.12.10"
  }
 },
 "nbformat": 4,
 "nbformat_minor": 5
}
